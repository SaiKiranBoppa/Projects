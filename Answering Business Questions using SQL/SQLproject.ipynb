{
 "cells": [
  {
   "cell_type": "markdown",
   "metadata": {
    "collapsed": true
   },
   "source": [
    "# Answering Business Questions using SQL"
   ]
  },
  {
   "cell_type": "markdown",
   "metadata": {},
   "source": [
    "In this project we will be working with modified version of Chinook database. The Chinook database contains information about a fictional digital music shop.\n",
    "\n",
    "Check more about Chinook database here : https://github.com/lerocha/chinook-database\n",
    "\n",
    "Here we will be using 'chinook.db' (sqlite databse) and write SQL queries to extract the relevant data to answer speific business questions."
   ]
  },
  {
   "cell_type": "markdown",
   "metadata": {},
   "source": [
    "Importing the required modules"
   ]
  },
  {
   "cell_type": "code",
   "execution_count": 6,
   "metadata": {
    "collapsed": true
   },
   "outputs": [],
   "source": [
    "import sqlite3\n",
    "import pandas as pd"
   ]
  },
  {
   "cell_type": "markdown",
   "metadata": {},
   "source": [
    "Here we are importing 'pandas' as we can also use 'pandas' to run queries and it will produce dataframe outputs which will be displayed as tables.\n",
    "We just need to pass the connection object along with the query to the pd.read_sql() to get the results of the query as a data frame."
   ]
  },
  {
   "cell_type": "markdown",
   "metadata": {},
   "source": [
    "First, let us create some helper functions so that we can simply call these functions every time we want to run specific task. (Ex: Running a query, Creating, Inserting or Modifying a table, Listing all tables)"
   ]
  },
  {
   "cell_type": "code",
   "execution_count": 7,
   "metadata": {
    "collapsed": true
   },
   "outputs": [],
   "source": [
    "def run_query(query):\n",
    "    with sqlite3.connect('chinook.db') as conn:\n",
    "        return pd.read_sql(query, conn)"
   ]
  },
  {
   "cell_type": "markdown",
   "metadata": {},
   "source": [
    "The above function executes the given query and returns the result as a pandas data frame. We can use this function when our query is returning a table."
   ]
  },
  {
   "cell_type": "markdown",
   "metadata": {},
   "source": [
    "Now, let us write another function to run commands that don't return any result tables like 'CREATE', 'INSERT' and 'ALTER' statements."
   ]
  },
  {
   "cell_type": "code",
   "execution_count": 8,
   "metadata": {
    "collapsed": true
   },
   "outputs": [],
   "source": [
    "def run_command(command):\n",
    "    with sqlite3.connect('chinook.db') as conn:\n",
    "        conn.isolation_level = None\n",
    "        conn.execute(command)"
   ]
  },
  {
   "cell_type": "markdown",
   "metadata": {},
   "source": [
    "In the above function the 'conn.isolation_level = None' tells SQLite to autocommit any changes immediately without waiting until end of transaction block."
   ]
  },
  {
   "cell_type": "markdown",
   "metadata": {},
   "source": [
    "Finally, let us also make a function to list all the tables and views in our database."
   ]
  },
  {
   "cell_type": "code",
   "execution_count": 11,
   "metadata": {
    "collapsed": true
   },
   "outputs": [],
   "source": [
    "def show_tables():\n",
    "    query = '''\n",
    "            SELECT\n",
    "                name,\n",
    "                type\n",
    "            FROM sqlite_master\n",
    "            WHERE type IN (\"table\", \"view\")\n",
    "            '''\n",
    "    return run_query(query)"
   ]
  },
  {
   "cell_type": "markdown",
   "metadata": {},
   "source": [
    "As we can see in the above function, we made use of existing run_query() function to execute the query to select tables and views from our database."
   ]
  },
  {
   "cell_type": "code",
   "execution_count": 13,
   "metadata": {
    "collapsed": false
   },
   "outputs": [
    {
     "data": {
      "text/html": [
       "<div>\n",
       "<style scoped>\n",
       "    .dataframe tbody tr th:only-of-type {\n",
       "        vertical-align: middle;\n",
       "    }\n",
       "\n",
       "    .dataframe tbody tr th {\n",
       "        vertical-align: top;\n",
       "    }\n",
       "\n",
       "    .dataframe thead th {\n",
       "        text-align: right;\n",
       "    }\n",
       "</style>\n",
       "<table border=\"1\" class=\"dataframe\">\n",
       "  <thead>\n",
       "    <tr style=\"text-align: right;\">\n",
       "      <th></th>\n",
       "      <th>name</th>\n",
       "      <th>type</th>\n",
       "    </tr>\n",
       "  </thead>\n",
       "  <tbody>\n",
       "    <tr>\n",
       "      <th>0</th>\n",
       "      <td>album</td>\n",
       "      <td>table</td>\n",
       "    </tr>\n",
       "    <tr>\n",
       "      <th>1</th>\n",
       "      <td>artist</td>\n",
       "      <td>table</td>\n",
       "    </tr>\n",
       "    <tr>\n",
       "      <th>2</th>\n",
       "      <td>customer</td>\n",
       "      <td>table</td>\n",
       "    </tr>\n",
       "    <tr>\n",
       "      <th>3</th>\n",
       "      <td>employee</td>\n",
       "      <td>table</td>\n",
       "    </tr>\n",
       "    <tr>\n",
       "      <th>4</th>\n",
       "      <td>genre</td>\n",
       "      <td>table</td>\n",
       "    </tr>\n",
       "    <tr>\n",
       "      <th>5</th>\n",
       "      <td>invoice</td>\n",
       "      <td>table</td>\n",
       "    </tr>\n",
       "    <tr>\n",
       "      <th>6</th>\n",
       "      <td>invoice_line</td>\n",
       "      <td>table</td>\n",
       "    </tr>\n",
       "    <tr>\n",
       "      <th>7</th>\n",
       "      <td>media_type</td>\n",
       "      <td>table</td>\n",
       "    </tr>\n",
       "    <tr>\n",
       "      <th>8</th>\n",
       "      <td>playlist</td>\n",
       "      <td>table</td>\n",
       "    </tr>\n",
       "    <tr>\n",
       "      <th>9</th>\n",
       "      <td>playlist_track</td>\n",
       "      <td>table</td>\n",
       "    </tr>\n",
       "    <tr>\n",
       "      <th>10</th>\n",
       "      <td>track</td>\n",
       "      <td>table</td>\n",
       "    </tr>\n",
       "  </tbody>\n",
       "</table>\n",
       "</div>"
      ],
      "text/plain": [
       "              name   type\n",
       "0            album  table\n",
       "1           artist  table\n",
       "2         customer  table\n",
       "3         employee  table\n",
       "4            genre  table\n",
       "5          invoice  table\n",
       "6     invoice_line  table\n",
       "7       media_type  table\n",
       "8         playlist  table\n",
       "9   playlist_track  table\n",
       "10           track  table"
      ]
     },
     "execution_count": 13,
     "metadata": {},
     "output_type": "execute_result"
    }
   ],
   "source": [
    "show_tables()"
   ]
  },
  {
   "cell_type": "markdown",
   "metadata": {},
   "source": [
    "Now let us write a query to see which genre tracks are sold most in the country 'USA'."
   ]
  },
  {
   "cell_type": "code",
   "execution_count": 32,
   "metadata": {
    "collapsed": false
   },
   "outputs": [
    {
     "data": {
      "text/html": [
       "<div>\n",
       "<style scoped>\n",
       "    .dataframe tbody tr th:only-of-type {\n",
       "        vertical-align: middle;\n",
       "    }\n",
       "\n",
       "    .dataframe tbody tr th {\n",
       "        vertical-align: top;\n",
       "    }\n",
       "\n",
       "    .dataframe thead th {\n",
       "        text-align: right;\n",
       "    }\n",
       "</style>\n",
       "<table border=\"1\" class=\"dataframe\">\n",
       "  <thead>\n",
       "    <tr style=\"text-align: right;\">\n",
       "      <th></th>\n",
       "      <th>genre_name</th>\n",
       "      <th>no_of_tracks_sold</th>\n",
       "      <th>percentage</th>\n",
       "    </tr>\n",
       "  </thead>\n",
       "  <tbody>\n",
       "    <tr>\n",
       "      <th>0</th>\n",
       "      <td>Rock</td>\n",
       "      <td>561</td>\n",
       "      <td>0.533777</td>\n",
       "    </tr>\n",
       "    <tr>\n",
       "      <th>1</th>\n",
       "      <td>Alternative &amp; Punk</td>\n",
       "      <td>130</td>\n",
       "      <td>0.123692</td>\n",
       "    </tr>\n",
       "    <tr>\n",
       "      <th>2</th>\n",
       "      <td>Metal</td>\n",
       "      <td>124</td>\n",
       "      <td>0.117983</td>\n",
       "    </tr>\n",
       "    <tr>\n",
       "      <th>3</th>\n",
       "      <td>R&amp;B/Soul</td>\n",
       "      <td>53</td>\n",
       "      <td>0.050428</td>\n",
       "    </tr>\n",
       "    <tr>\n",
       "      <th>4</th>\n",
       "      <td>Blues</td>\n",
       "      <td>36</td>\n",
       "      <td>0.034253</td>\n",
       "    </tr>\n",
       "    <tr>\n",
       "      <th>5</th>\n",
       "      <td>Alternative</td>\n",
       "      <td>35</td>\n",
       "      <td>0.033302</td>\n",
       "    </tr>\n",
       "    <tr>\n",
       "      <th>6</th>\n",
       "      <td>Latin</td>\n",
       "      <td>22</td>\n",
       "      <td>0.020932</td>\n",
       "    </tr>\n",
       "    <tr>\n",
       "      <th>7</th>\n",
       "      <td>Pop</td>\n",
       "      <td>22</td>\n",
       "      <td>0.020932</td>\n",
       "    </tr>\n",
       "    <tr>\n",
       "      <th>8</th>\n",
       "      <td>Hip Hop/Rap</td>\n",
       "      <td>20</td>\n",
       "      <td>0.019029</td>\n",
       "    </tr>\n",
       "    <tr>\n",
       "      <th>9</th>\n",
       "      <td>Jazz</td>\n",
       "      <td>14</td>\n",
       "      <td>0.013321</td>\n",
       "    </tr>\n",
       "    <tr>\n",
       "      <th>10</th>\n",
       "      <td>Easy Listening</td>\n",
       "      <td>13</td>\n",
       "      <td>0.012369</td>\n",
       "    </tr>\n",
       "    <tr>\n",
       "      <th>11</th>\n",
       "      <td>Reggae</td>\n",
       "      <td>6</td>\n",
       "      <td>0.005709</td>\n",
       "    </tr>\n",
       "    <tr>\n",
       "      <th>12</th>\n",
       "      <td>Electronica/Dance</td>\n",
       "      <td>5</td>\n",
       "      <td>0.004757</td>\n",
       "    </tr>\n",
       "    <tr>\n",
       "      <th>13</th>\n",
       "      <td>Classical</td>\n",
       "      <td>4</td>\n",
       "      <td>0.003806</td>\n",
       "    </tr>\n",
       "    <tr>\n",
       "      <th>14</th>\n",
       "      <td>Heavy Metal</td>\n",
       "      <td>3</td>\n",
       "      <td>0.002854</td>\n",
       "    </tr>\n",
       "    <tr>\n",
       "      <th>15</th>\n",
       "      <td>Soundtrack</td>\n",
       "      <td>2</td>\n",
       "      <td>0.001903</td>\n",
       "    </tr>\n",
       "    <tr>\n",
       "      <th>16</th>\n",
       "      <td>TV Shows</td>\n",
       "      <td>1</td>\n",
       "      <td>0.000951</td>\n",
       "    </tr>\n",
       "  </tbody>\n",
       "</table>\n",
       "</div>"
      ],
      "text/plain": [
       "            genre_name  no_of_tracks_sold  percentage\n",
       "0                 Rock                561    0.533777\n",
       "1   Alternative & Punk                130    0.123692\n",
       "2                Metal                124    0.117983\n",
       "3             R&B/Soul                 53    0.050428\n",
       "4                Blues                 36    0.034253\n",
       "5          Alternative                 35    0.033302\n",
       "6                Latin                 22    0.020932\n",
       "7                  Pop                 22    0.020932\n",
       "8          Hip Hop/Rap                 20    0.019029\n",
       "9                 Jazz                 14    0.013321\n",
       "10      Easy Listening                 13    0.012369\n",
       "11              Reggae                  6    0.005709\n",
       "12   Electronica/Dance                  5    0.004757\n",
       "13           Classical                  4    0.003806\n",
       "14         Heavy Metal                  3    0.002854\n",
       "15          Soundtrack                  2    0.001903\n",
       "16            TV Shows                  1    0.000951"
      ]
     },
     "execution_count": 32,
     "metadata": {},
     "output_type": "execute_result"
    }
   ],
   "source": [
    "query = '''\n",
    "        WITH absolute_numbers AS \n",
    "        (\n",
    "        SELECT\n",
    "            g.name AS genre_name,\n",
    "            SUM(il.quantity) AS no_of_tracks_sold\n",
    "        FROM (SELECT * FROM customer WHERE country = 'USA') c\n",
    "        INNER JOIN invoice i ON i.customer_id = c.customer_id\n",
    "        INNER JOIN invoice_line il ON il.invoice_id = i.invoice_id\n",
    "        INNER JOIN track t ON t.track_id = il.track_id\n",
    "        INNER JOIN genre g ON g.genre_id = t.genre_id\n",
    "        GROUP BY genre_name\n",
    "        )\n",
    "        SELECT \n",
    "            genre_name, \n",
    "            no_of_tracks_sold, \n",
    "            CAST(no_of_tracks_sold AS FLOAT)/(SELECT SUM(no_of_tracks_sold) FROM absolute_numbers) AS percentage \n",
    "            FROM absolute_numbers\n",
    "            ORDER BY no_of_tracks_sold DESC\n",
    "        '''\n",
    "run_query(query)"
   ]
  },
  {
   "cell_type": "markdown",
   "metadata": {},
   "source": [
    "As we can see from the above results, tracks from 'Rock' genre are most sold with more than 50% of total tracks sold in USA."
   ]
  },
  {
   "cell_type": "markdown",
   "metadata": {},
   "source": [
    "Now let us write a query to find the total sales done by each of the sales support agent to see if any of them are over performing or under performing."
   ]
  },
  {
   "cell_type": "code",
   "execution_count": 55,
   "metadata": {
    "collapsed": false
   },
   "outputs": [
    {
     "data": {
      "text/html": [
       "<div>\n",
       "<style scoped>\n",
       "    .dataframe tbody tr th:only-of-type {\n",
       "        vertical-align: middle;\n",
       "    }\n",
       "\n",
       "    .dataframe tbody tr th {\n",
       "        vertical-align: top;\n",
       "    }\n",
       "\n",
       "    .dataframe thead th {\n",
       "        text-align: right;\n",
       "    }\n",
       "</style>\n",
       "<table border=\"1\" class=\"dataframe\">\n",
       "  <thead>\n",
       "    <tr style=\"text-align: right;\">\n",
       "      <th></th>\n",
       "      <th>emp_name</th>\n",
       "      <th>total_sales</th>\n",
       "      <th>hire_date</th>\n",
       "    </tr>\n",
       "  </thead>\n",
       "  <tbody>\n",
       "    <tr>\n",
       "      <th>0</th>\n",
       "      <td>Jane Peacock</td>\n",
       "      <td>1731.51</td>\n",
       "      <td>2017-04-01 00:00:00</td>\n",
       "    </tr>\n",
       "    <tr>\n",
       "      <th>1</th>\n",
       "      <td>Margaret Park</td>\n",
       "      <td>1584.00</td>\n",
       "      <td>2017-05-03 00:00:00</td>\n",
       "    </tr>\n",
       "    <tr>\n",
       "      <th>2</th>\n",
       "      <td>Steve Johnson</td>\n",
       "      <td>1393.92</td>\n",
       "      <td>2017-10-17 00:00:00</td>\n",
       "    </tr>\n",
       "  </tbody>\n",
       "</table>\n",
       "</div>"
      ],
      "text/plain": [
       "        emp_name  total_sales            hire_date\n",
       "0   Jane Peacock      1731.51  2017-04-01 00:00:00\n",
       "1  Margaret Park      1584.00  2017-05-03 00:00:00\n",
       "2  Steve Johnson      1393.92  2017-10-17 00:00:00"
      ]
     },
     "execution_count": 55,
     "metadata": {},
     "output_type": "execute_result"
    }
   ],
   "source": [
    "query = ''' \n",
    "        WITH customer_totals AS\n",
    "        (\n",
    "        SELECT \n",
    "            c.customer_id,\n",
    "            c.support_rep_id,\n",
    "            SUM(i.total) as total\n",
    "        FROM customer c\n",
    "        INNER JOIN invoice i ON i.customer_id = c.customer_id\n",
    "        GROUP BY i.customer_id\n",
    "        )\n",
    "        SELECT \n",
    "            e.first_name || ' ' || e.last_name as emp_name,\n",
    "            SUM(ct.total) AS total_sales,\n",
    "            e.hire_date AS hire_date\n",
    "        FROM employee e\n",
    "        INNER JOIN customer_totals ct ON ct.support_rep_id = e.employee_id\n",
    "        WHERE e.title = 'Sales Support Agent'\n",
    "        GROUP BY e.employee_id\n",
    "        '''\n",
    "run_query(query)"
   ]
  },
  {
   "cell_type": "markdown",
   "metadata": {},
   "source": [
    "In the above result, we have selected the column 'hire_date' to understand the difference in total sales.\n",
    "\n",
    "We can conclude from the above results that there is a slight difference in amount of 'total_sales' and we can safely attribute it to hiring date as the diffence is very less.\n",
    "\n",
    "From the 'hire_date' column we see Jane started in January, Margaret started in March and Steve started in October. Thus, we expect a difference in total sales made by them. In conclusion, we can say all of them are performing on same level without anyone outperforming or underperforming than others."
   ]
  },
  {
   "cell_type": "code",
   "execution_count": 89,
   "metadata": {
    "collapsed": false
   },
   "outputs": [
    {
     "data": {
      "text/html": [
       "<div>\n",
       "<style scoped>\n",
       "    .dataframe tbody tr th:only-of-type {\n",
       "        vertical-align: middle;\n",
       "    }\n",
       "\n",
       "    .dataframe tbody tr th {\n",
       "        vertical-align: top;\n",
       "    }\n",
       "\n",
       "    .dataframe thead th {\n",
       "        text-align: right;\n",
       "    }\n",
       "</style>\n",
       "<table border=\"1\" class=\"dataframe\">\n",
       "  <thead>\n",
       "    <tr style=\"text-align: right;\">\n",
       "      <th></th>\n",
       "      <th>country</th>\n",
       "      <th>no_of_customers</th>\n",
       "      <th>total_sales</th>\n",
       "      <th>avg_sales_per_customer</th>\n",
       "      <th>avg_order_value</th>\n",
       "    </tr>\n",
       "  </thead>\n",
       "  <tbody>\n",
       "    <tr>\n",
       "      <th>0</th>\n",
       "      <td>USA</td>\n",
       "      <td>13</td>\n",
       "      <td>1040.49</td>\n",
       "      <td>80.037692</td>\n",
       "      <td>7.942672</td>\n",
       "    </tr>\n",
       "    <tr>\n",
       "      <th>1</th>\n",
       "      <td>Canada</td>\n",
       "      <td>8</td>\n",
       "      <td>535.59</td>\n",
       "      <td>66.948750</td>\n",
       "      <td>7.047237</td>\n",
       "    </tr>\n",
       "    <tr>\n",
       "      <th>2</th>\n",
       "      <td>Brazil</td>\n",
       "      <td>5</td>\n",
       "      <td>427.68</td>\n",
       "      <td>85.536000</td>\n",
       "      <td>7.011148</td>\n",
       "    </tr>\n",
       "    <tr>\n",
       "      <th>3</th>\n",
       "      <td>France</td>\n",
       "      <td>5</td>\n",
       "      <td>389.07</td>\n",
       "      <td>77.814000</td>\n",
       "      <td>7.781400</td>\n",
       "    </tr>\n",
       "    <tr>\n",
       "      <th>4</th>\n",
       "      <td>Germany</td>\n",
       "      <td>4</td>\n",
       "      <td>334.62</td>\n",
       "      <td>83.655000</td>\n",
       "      <td>8.161463</td>\n",
       "    </tr>\n",
       "    <tr>\n",
       "      <th>5</th>\n",
       "      <td>Czech Republic</td>\n",
       "      <td>2</td>\n",
       "      <td>273.24</td>\n",
       "      <td>136.620000</td>\n",
       "      <td>9.108000</td>\n",
       "    </tr>\n",
       "    <tr>\n",
       "      <th>6</th>\n",
       "      <td>United Kingdom</td>\n",
       "      <td>3</td>\n",
       "      <td>245.52</td>\n",
       "      <td>81.840000</td>\n",
       "      <td>8.768571</td>\n",
       "    </tr>\n",
       "    <tr>\n",
       "      <th>7</th>\n",
       "      <td>Portugal</td>\n",
       "      <td>2</td>\n",
       "      <td>185.13</td>\n",
       "      <td>92.565000</td>\n",
       "      <td>6.383793</td>\n",
       "    </tr>\n",
       "    <tr>\n",
       "      <th>8</th>\n",
       "      <td>India</td>\n",
       "      <td>2</td>\n",
       "      <td>183.15</td>\n",
       "      <td>91.575000</td>\n",
       "      <td>8.721429</td>\n",
       "    </tr>\n",
       "    <tr>\n",
       "      <th>9</th>\n",
       "      <td>Others</td>\n",
       "      <td>15</td>\n",
       "      <td>1094.94</td>\n",
       "      <td>72.996000</td>\n",
       "      <td>7.448571</td>\n",
       "    </tr>\n",
       "  </tbody>\n",
       "</table>\n",
       "</div>"
      ],
      "text/plain": [
       "          country  no_of_customers  total_sales  avg_sales_per_customer  \\\n",
       "0             USA               13      1040.49               80.037692   \n",
       "1          Canada                8       535.59               66.948750   \n",
       "2          Brazil                5       427.68               85.536000   \n",
       "3          France                5       389.07               77.814000   \n",
       "4         Germany                4       334.62               83.655000   \n",
       "5  Czech Republic                2       273.24              136.620000   \n",
       "6  United Kingdom                3       245.52               81.840000   \n",
       "7        Portugal                2       185.13               92.565000   \n",
       "8           India                2       183.15               91.575000   \n",
       "9          Others               15      1094.94               72.996000   \n",
       "\n",
       "   avg_order_value  \n",
       "0         7.942672  \n",
       "1         7.047237  \n",
       "2         7.011148  \n",
       "3         7.781400  \n",
       "4         8.161463  \n",
       "5         9.108000  \n",
       "6         8.768571  \n",
       "7         6.383793  \n",
       "8         8.721429  \n",
       "9         7.448571  "
      ]
     },
     "execution_count": 89,
     "metadata": {},
     "output_type": "execute_result"
    }
   ],
   "source": [
    "query = '''\n",
    "        WITH \n",
    "            customers_by_country AS\n",
    "            (\n",
    "                SELECT \n",
    "                    country,\n",
    "                    COUNT(*) as no_of_customers\n",
    "                FROM customer\n",
    "                GROUP BY country\n",
    "            ),\n",
    "            sales_by_country AS\n",
    "            (\n",
    "                SELECT \n",
    "                    c.country,\n",
    "                    COUNT(*) AS no_of_orders,\n",
    "                    SUM(i.total) AS total_sales\n",
    "                FROM customer c\n",
    "                INNER JOIN invoice i ON i.customer_id = c.customer_id\n",
    "                GROUP BY c.country\n",
    "            ),\n",
    "            unordered_result AS\n",
    "            (\n",
    "                SELECT\n",
    "                    CASE\n",
    "                        WHEN cc.no_of_customers = 1 THEN 'Others'\n",
    "                        ELSE cc.country\n",
    "                    END as country,\n",
    "                    SUM(no_of_customers) AS no_of_customers,\n",
    "                    SUM(total_sales) AS total_sales,\n",
    "                    SUM(total_sales)/SUM(no_of_customers) AS avg_sales_per_customer,\n",
    "                    SUM(total_sales)/SUM(no_of_orders) AS avg_order_value\n",
    "                FROM customers_by_country cc\n",
    "                INNER JOIN sales_by_country sc ON cc.country = sc.country\n",
    "                GROUP BY 1\n",
    "                ORDER BY total_sales DESC\n",
    "            )\n",
    "        SELECT \n",
    "            country, \n",
    "            no_of_customers, \n",
    "            total_sales,\n",
    "            avg_sales_per_customer,\n",
    "            avg_order_value\n",
    "        FROM \n",
    "            (\n",
    "            SELECT \n",
    "                ur.*,\n",
    "                CASE\n",
    "                    WHEN ur.country = \"Others\" THEN 1\n",
    "                    ELSE 0\n",
    "                END AS sort\n",
    "            FROM unordered_result ur\n",
    "            )\n",
    "        ORDER BY sort\n",
    "        '''\n",
    "run_query(query)"
   ]
  },
  {
   "cell_type": "markdown",
   "metadata": {},
   "source": [
    "From the above results we see the average sales per customer is more in countries 'Czech Republic', 'Portugal', 'India' and no of customers are less in these countries. Thus we can say there is a potential for growth in these countries and the company should invest more in these countries."
   ]
  },
  {
   "cell_type": "markdown",
   "metadata": {
    "collapsed": false
   },
   "source": [
    "Now let us write a query to find how many no of purchases are album purchases and how many no of purchases are not, so that the company can decide on whether it should keep purchasing albums as a whole or to only buy popular tracks from the albums to maximize revenue."
   ]
  },
  {
   "cell_type": "code",
   "execution_count": 115,
   "metadata": {
    "collapsed": false
   },
   "outputs": [
    {
     "data": {
      "text/html": [
       "<div>\n",
       "<style scoped>\n",
       "    .dataframe tbody tr th:only-of-type {\n",
       "        vertical-align: middle;\n",
       "    }\n",
       "\n",
       "    .dataframe tbody tr th {\n",
       "        vertical-align: top;\n",
       "    }\n",
       "\n",
       "    .dataframe thead th {\n",
       "        text-align: right;\n",
       "    }\n",
       "</style>\n",
       "<table border=\"1\" class=\"dataframe\">\n",
       "  <thead>\n",
       "    <tr style=\"text-align: right;\">\n",
       "      <th></th>\n",
       "      <th>album_purchase</th>\n",
       "      <th>no_of_invoices</th>\n",
       "      <th>percentage</th>\n",
       "    </tr>\n",
       "  </thead>\n",
       "  <tbody>\n",
       "    <tr>\n",
       "      <th>0</th>\n",
       "      <td>no</td>\n",
       "      <td>500</td>\n",
       "      <td>0.814332</td>\n",
       "    </tr>\n",
       "    <tr>\n",
       "      <th>1</th>\n",
       "      <td>yes</td>\n",
       "      <td>114</td>\n",
       "      <td>0.185668</td>\n",
       "    </tr>\n",
       "  </tbody>\n",
       "</table>\n",
       "</div>"
      ],
      "text/plain": [
       "  album_purchase  no_of_invoices  percentage\n",
       "0             no             500    0.814332\n",
       "1            yes             114    0.185668"
      ]
     },
     "execution_count": 115,
     "metadata": {},
     "output_type": "execute_result"
    }
   ],
   "source": [
    "query = '''WITH \n",
    "            min_track_id AS\n",
    "            (\n",
    "            SELECT \n",
    "                invoice_id, MIN(track_id) as track_id \n",
    "            FROM invoice_line GROUP BY invoice_id\n",
    "            )\n",
    "            SELECT \n",
    "                album_purchase,\n",
    "                COUNT(invoice_id) AS no_of_invoices,\n",
    "                CAST(COUNT(invoice_id) AS FLOAT) / (SELECT COUNT(*) FROM invoice) AS percentage\n",
    "            FROM\n",
    "                (\n",
    "                SELECT \n",
    "                    mti.invoice_id,\n",
    "                    CASE\n",
    "                        WHEN \n",
    "                            (\n",
    "                            SELECT il1.track_id \n",
    "                            FROM invoice_line il1 \n",
    "                            WHERE il1.invoice_id = mti.invoice_id\n",
    "\n",
    "                            EXCEPT\n",
    "\n",
    "                            SELECT t1.track_id\n",
    "                            FROM track t1\n",
    "                            WHERE t1.album_id = (\n",
    "                                                SELECT t2.album_id\n",
    "                                                FROM track t2\n",
    "                                                WHERE mti.track_id = t2.track_id\n",
    "                                                )\n",
    "                            ) IS NULL\n",
    "                        AND\n",
    "                            (\n",
    "                            SELECT t1.track_id\n",
    "                            FROM track t1\n",
    "                            WHERE t1.album_id = (\n",
    "                                                SELECT t2.album_id\n",
    "                                                FROM track t2\n",
    "                                                WHERE mti.track_id = t2.track_id\n",
    "                                                )\n",
    "\n",
    "                            EXCEPT\n",
    "\n",
    "                            SELECT il1.track_id \n",
    "                            FROM invoice_line il1 \n",
    "                            WHERE il1.invoice_id = mti.invoice_id                        \n",
    "                            ) IS NULL\n",
    "                        THEN \"yes\"\n",
    "                        ELSE \"no\"\n",
    "                        END AS album_purchase\n",
    "                FROM min_track_id mti\n",
    "                )\n",
    "            GROUP BY album_purchase\n",
    "            '''\n",
    "run_query(query)"
   ]
  },
  {
   "cell_type": "markdown",
   "metadata": {},
   "source": [
    "From the above results we see about 20 percent of all the purchases are whole album purchases and rest are purchases of individual tracks.\n",
    "\n",
    "Thus we can advise to stop purchasing albums as a whole as they only contribute to less than 20 percent of all purchases and suggest to buy popular tracks from different albums to maximize revenue.\n",
    "\n",
    "Note that customers who are interested in purchasing whole  albums will still be able to get the most popular songs from those albums, so we wont be losing that whole 20% of the revenue. "
   ]
  }
 ],
 "metadata": {
  "kernelspec": {
   "display_name": "Python 3",
   "language": "python",
   "name": "python3"
  },
  "language_info": {
   "codemirror_mode": {
    "name": "ipython",
    "version": 3
   },
   "file_extension": ".py",
   "mimetype": "text/x-python",
   "name": "python",
   "nbconvert_exporter": "python",
   "pygments_lexer": "ipython3",
   "version": "3.4.3"
  }
 },
 "nbformat": 4,
 "nbformat_minor": 2
}
